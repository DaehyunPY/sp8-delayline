{
 "cells": [
  {
   "cell_type": "code",
   "execution_count": 1,
   "metadata": {},
   "outputs": [],
   "source": [
    "from glob import iglob\n",
    "from functools import reduce\n",
    "from itertools import islice\n",
    "\n",
    "from pyspark.sql import SparkSession, DataFrame\n",
    "from pyspark.sql.functions import udf, array\n",
    "import matplotlib.pyplot as plt\n",
    "from sp8tools import SpkHits"
   ]
  },
  {
   "cell_type": "markdown",
   "metadata": {},
   "source": [
    "Connect to PySpark master"
   ]
  },
  {
   "cell_type": "code",
   "execution_count": 2,
   "metadata": {},
   "outputs": [],
   "source": [
    "builder = (SparkSession\n",
    "           .builder\n",
    "           .appName('PySpark Example')\n",
    "           .master('spark://carbon.uedalab.local:7077')\n",
    "           .config(\"spark.jars.packages\", \"org.diana-hep:spark-root_2.11:0.1.15\")\n",
    "           .config(\"spark.cores.max\", 1)\n",
    "           )\n",
    "spark = builder.getOrCreate()"
   ]
  },
  {
   "cell_type": "markdown",
   "metadata": {},
   "source": [
    "Read root files"
   ]
  },
  {
   "cell_type": "code",
   "execution_count": 3,
   "metadata": {
    "scrolled": false
   },
   "outputs": [
    {
     "name": "stdout",
     "output_type": "stream",
     "text": [
      "root\n",
      " |-- IonNum: integer (nullable = true)\n",
      " |-- IonX0: double (nullable = true)\n",
      " |-- IonY0: double (nullable = true)\n",
      " |-- IonT0: double (nullable = true)\n",
      " |-- IonFlag0: integer (nullable = true)\n",
      " |-- IonX1: double (nullable = true)\n",
      " |-- IonY1: double (nullable = true)\n",
      " |-- IonT1: double (nullable = true)\n",
      " |-- IonFlag1: integer (nullable = true)\n",
      " |-- IonX2: double (nullable = true)\n",
      " |-- IonY2: double (nullable = true)\n",
      " |-- IonT2: double (nullable = true)\n",
      " |-- IonFlag2: integer (nullable = true)\n",
      " |-- IonX3: double (nullable = true)\n",
      " |-- IonY3: double (nullable = true)\n",
      " |-- IonT3: double (nullable = true)\n",
      " |-- IonFlag3: integer (nullable = true)\n",
      " |-- ElecNum: integer (nullable = true)\n",
      " |-- ElecX0: double (nullable = true)\n",
      " |-- ElecY0: double (nullable = true)\n",
      " |-- ElecT0: double (nullable = true)\n",
      " |-- ElecFlag0: integer (nullable = true)\n",
      " |-- ElecX1: double (nullable = true)\n",
      " |-- ElecY1: double (nullable = true)\n",
      " |-- ElecT1: double (nullable = true)\n",
      " |-- ElecFlag1: integer (nullable = true)\n",
      " |-- ElecX2: double (nullable = true)\n",
      " |-- ElecY2: double (nullable = true)\n",
      " |-- ElecT2: double (nullable = true)\n",
      " |-- ElecFlag2: integer (nullable = true)\n",
      " |-- ElecX3: double (nullable = true)\n",
      " |-- ElecY3: double (nullable = true)\n",
      " |-- ElecT3: double (nullable = true)\n",
      " |-- ElecFlag3: integer (nullable = true)\n",
      "\n"
     ]
    }
   ],
   "source": [
    "globbed = iglob(\"/helium/analysis/SPring-8/2014B/06_Ar_15atm_258eV/ResortLi/ResortLess000[123].root\")\n",
    "loaded = (spark.read.format(\"org.dianahep.sparkroot\").load(fn) for fn in globbed)\n",
    "df = reduce(DataFrame.union, loaded)\n",
    "df.printSchema()"
   ]
  },
  {
   "cell_type": "markdown",
   "metadata": {},
   "source": [
    "Restruct"
   ]
  },
  {
   "cell_type": "code",
   "execution_count": 8,
   "metadata": {},
   "outputs": [
    {
     "name": "stdout",
     "output_type": "stream",
     "text": [
      "root\n",
      " |-- tag: long (nullable = false)\n",
      " |-- ihits: array (nullable = true)\n",
      " |    |-- element: struct (containsNull = true)\n",
      " |    |    |-- x: double (nullable = false)\n",
      " |    |    |-- y: double (nullable = false)\n",
      " |    |    |-- t: double (nullable = false)\n",
      " |    |    |-- flag: integer (nullable = false)\n",
      " |-- ehits: array (nullable = true)\n",
      " |    |-- element: struct (containsNull = true)\n",
      " |    |    |-- x: double (nullable = false)\n",
      " |    |    |-- y: double (nullable = false)\n",
      " |    |    |-- t: double (nullable = false)\n",
      " |    |    |-- flag: integer (nullable = false)\n",
      "\n"
     ]
    }
   ],
   "source": [
    "@udf(SpkHits)\n",
    "def combine_hits(xarr, yarr, tarr, flagarr, nhits):\n",
    "    zipped = ({'x': x,\n",
    "               'y': y,\n",
    "               't': t,\n",
    "               'flag': f\n",
    "               } for x, y, t, f in zip(xarr, yarr, tarr, flagarr))\n",
    "    return list(islice(zipped, nhits))\n",
    "\n",
    "\n",
    "imhits = sum(1 for c in df.columns if c.startswith('IonT'))\n",
    "emhits = sum(1 for c in df.columns if c.startswith('ElecT'))\n",
    "restructured = (\n",
    "    df\n",
    "        .withColumn('itarr', array(*['IonT{}'.format(i) for i in range(imhits)]))\n",
    "        .withColumn('ixarr', array(*['IonX{}'.format(i) for i in range(imhits)]))\n",
    "        .withColumn('iyarr', array(*['IonY{}'.format(i) for i in range(imhits)]))\n",
    "        .withColumn('iflagarr', array(*['IonFlag{}'.format(i) for i in range(imhits)]))\n",
    "        .withColumnRenamed('IonNum', 'inhits')\n",
    "        .withColumn('etarr', array(*['ElecT{}'.format(i) for i in range(emhits)]))\n",
    "        .withColumn('exarr', array(*['ElecX{}'.format(i) for i in range(emhits)]))\n",
    "        .withColumn('eyarr', array(*['ElecY{}'.format(i) for i in range(emhits)]))\n",
    "        .withColumn('eflagarr', array(*['ElecFlag{}'.format(i) for i in range(emhits)]))\n",
    "        .withColumnRenamed('ElecNum', 'enhits')\n",
    "        .select(combine_hits('itarr', 'ixarr', 'iyarr', 'iflagarr', 'inhits').alias('ihits'),\n",
    "                combine_hits('etarr', 'exarr', 'eyarr', 'eflagarr', 'enhits').alias('ehits'))\n",
    ")"
   ]
  },
  {
   "cell_type": "code",
   "execution_count": 10,
   "metadata": {},
   "outputs": [],
   "source": [
    "spark.stop()"
   ]
  }
 ],
 "metadata": {
  "kernelspec": {
   "display_name": "Python [default]",
   "language": "python",
   "name": "python3"
  },
  "language_info": {
   "codemirror_mode": {
    "name": "ipython",
    "version": 3
   },
   "file_extension": ".py",
   "mimetype": "text/x-python",
   "name": "python",
   "nbconvert_exporter": "python",
   "pygments_lexer": "ipython3",
   "version": "3.6.5"
  }
 },
 "nbformat": 4,
 "nbformat_minor": 2
}
