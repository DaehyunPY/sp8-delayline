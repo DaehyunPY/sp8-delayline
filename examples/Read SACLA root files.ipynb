{
 "cells": [
  {
   "cell_type": "code",
   "execution_count": 1,
   "metadata": {},
   "outputs": [],
   "source": [
    "from glob import iglob\n",
    "from functools import reduce\n",
    "\n",
    "from pyspark.sql import SparkSession, DataFrame\n",
    "from pyspark.sql.functions import udf, col\n",
    "import matplotlib.pyplot as plt\n",
    "from sp8tools import SpkHits"
   ]
  },
  {
   "cell_type": "markdown",
   "metadata": {},
   "source": [
    "Connect to PySpark master"
   ]
  },
  {
   "cell_type": "code",
   "execution_count": 2,
   "metadata": {},
   "outputs": [],
   "source": [
    "builder = (SparkSession\n",
    "           .builder\n",
    "           .appName(\"PySpark Example\")\n",
    "#            .master(\"spark://carbon.uedalab.local:7077\")\n",
    "           .config(\"spark.jars.packages\", \"org.diana-hep:spark-root_2.11:0.1.15\")\n",
    "           .config(\"spark.cores.max\", 1)\n",
    "#            .config(\"spark.executor.cores\", 3)\n",
    "           .config(\"spark.executor.memory\", \"16g\")\n",
    "           )\n",
    "spark = builder.getOrCreate()"
   ]
  },
  {
   "cell_type": "markdown",
   "metadata": {},
   "source": [
    "Read root files"
   ]
  },
  {
   "cell_type": "code",
   "execution_count": 3,
   "metadata": {},
   "outputs": [
    {
     "name": "stdout",
     "output_type": "stream",
     "text": [
      "root\n",
      " |-- SortedEvent: struct (nullable = true)\n",
      " |    |-- fEventID: long (nullable = true)\n",
      " |    |-- fDetektors: array (nullable = true)\n",
      " |    |    |-- element: struct (containsNull = true)\n",
      " |    |    |    |-- fDetektors_fHits: array (nullable = true)\n",
      " |    |    |    |    |-- element: struct (containsNull = true)\n",
      " |    |    |    |    |    |-- fPDNbr: integer (nullable = true)\n",
      " |    |    |    |    |    |-- fHitNbr: integer (nullable = true)\n",
      " |    |    |    |    |    |-- fU1Nbr: integer (nullable = true)\n",
      " |    |    |    |    |    |-- fU2Nbr: integer (nullable = true)\n",
      " |    |    |    |    |    |-- fV1Nbr: integer (nullable = true)\n",
      " |    |    |    |    |    |-- fV2Nbr: integer (nullable = true)\n",
      " |    |    |    |    |    |-- fW1Nbr: integer (nullable = true)\n",
      " |    |    |    |    |    |-- fW2Nbr: integer (nullable = true)\n",
      " |    |    |    |    |    |-- fMcpNbr: integer (nullable = true)\n",
      " |    |    |    |    |    |-- fX_mm: double (nullable = true)\n",
      " |    |    |    |    |    |-- fY_mm: double (nullable = true)\n",
      " |    |    |    |    |    |-- fTime: double (nullable = true)\n",
      " |    |    |    |    |    |-- fTof: double (nullable = true)\n",
      " |    |    |    |    |    |-- fRekmeth: integer (nullable = true)\n",
      " |    |    |    |-- fDetNbr: integer (nullable = true)\n",
      "\n"
     ]
    }
   ],
   "source": [
    "globbed = iglob(\"/helium/analysis/SACLA2015B/_preanalysis/aq00[123]/SortEvent_aq*.root\")\n",
    "loaded = (spark.read.format(\"org.dianahep.sparkroot\").load(fn) for fn in globbed)\n",
    "df = reduce(DataFrame.union, loaded)\n",
    "df.printSchema()"
   ]
  },
  {
   "cell_type": "markdown",
   "metadata": {},
   "source": [
    "Restruct"
   ]
  },
  {
   "cell_type": "code",
   "execution_count": 6,
   "metadata": {},
   "outputs": [
    {
     "name": "stdout",
     "output_type": "stream",
     "text": [
      "root\n",
      " |-- tag: long (nullable = true)\n",
      " |-- hits: array (nullable = true)\n",
      " |    |-- element: struct (containsNull = true)\n",
      " |    |    |-- x: double (nullable = false)\n",
      " |    |    |-- y: double (nullable = false)\n",
      " |    |    |-- t: double (nullable = false)\n",
      " |    |    |-- flag: integer (nullable = false)\n",
      "\n"
     ]
    }
   ],
   "source": [
    "@udf(SpkHits)\n",
    "def combine_hits(xarr, yarr, tarr, flagarr):\n",
    "    return [{'x': x,\n",
    "             'y': y,\n",
    "             't': t,\n",
    "             'flag': f\n",
    "            } for x, y, t, f in zip(xarr, yarr, tarr, flagarr)]\n",
    "\n",
    "\n",
    "chits = col('SortedEvent.fDetektors')[0]['fDetektors_fHits']\n",
    "restructed = (df\n",
    "              .withColumn('hits', combine_hits(chits.getField('fX_mm'),\n",
    "                                               chits.getField('fY_mm'),\n",
    "                                               chits.getField('fTime'),\n",
    "                                               chits.getField('fRekmeth')))\n",
    "              .select(col('SortedEvent.fEventID').alias(\"tag\"), 'hits'))\n",
    "restructed.printSchema()"
   ]
  },
  {
   "cell_type": "code",
   "execution_count": 7,
   "metadata": {},
   "outputs": [],
   "source": [
    "spark.stop()"
   ]
  }
 ],
 "metadata": {
  "kernelspec": {
   "display_name": "Python [default]",
   "language": "python",
   "name": "python3"
  },
  "language_info": {
   "codemirror_mode": {
    "name": "ipython",
    "version": 3
   },
   "file_extension": ".py",
   "mimetype": "text/x-python",
   "name": "python",
   "nbconvert_exporter": "python",
   "pygments_lexer": "ipython3",
   "version": "3.6.5"
  }
 },
 "nbformat": 4,
 "nbformat_minor": 2
}
